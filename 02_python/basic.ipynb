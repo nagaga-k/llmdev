{
 "cells": [
  {
   "cell_type": "code",
   "execution_count": 1,
   "id": "8b3719c6",
   "metadata": {},
   "outputs": [
    {
     "name": "stdout",
     "output_type": "stream",
     "text": [
      "3科目の平均点は 83.33333333333333 点です\n"
     ]
    }
   ],
   "source": [
    "japanese = 85\n",
    "math = 90\n",
    "english = 75\n",
    "\n",
    "average = (japanese + math + english) / 3\n",
    "\n",
    "print(\"3科目の平均点は\", average, \"点です\")"
   ]
  },
  {
   "cell_type": "code",
   "execution_count": 1,
   "id": "d9b79d08",
   "metadata": {},
   "outputs": [
    {
     "name": "stdout",
     "output_type": "stream",
     "text": [
      "a < b: True\n",
      "a == b: False\n"
     ]
    }
   ],
   "source": [
    "# 比較演算\n",
    "a = 5\n",
    "b = 10\n",
    "\n",
    "# aがbより小さいかどうかを比較\n",
    "result = a < b  # これはTrue\n",
    "\n",
    "# aとbが等しいかどうかを比較\n",
    "equal_result = a == b  # これはFalse\n",
    "\n",
    "print(\"a < b:\", result)\n",
    "print(\"a == b:\", equal_result)"
   ]
  },
  {
   "cell_type": "code",
   "execution_count": 2,
   "id": "a1a5ca21",
   "metadata": {},
   "outputs": [
    {
     "name": "stdout",
     "output_type": "stream",
     "text": [
      "False\n",
      "True\n",
      "False\n",
      "True\n"
     ]
    }
   ],
   "source": [
    "# ブール値に変換される値の例\n",
    "print(bool(0))  # False\n",
    "print(bool(1))  # True\n",
    "print(bool(\"\"))  # False（空の文字列はFalse）\n",
    "print(bool(\"Hello\"))  # True（非空の文字列はTrue）"
   ]
  },
  {
   "cell_type": "code",
   "execution_count": 3,
   "id": "72613886",
   "metadata": {},
   "outputs": [
    {
     "name": "stdout",
     "output_type": "stream",
     "text": [
      "2\n",
      "10\n",
      "5\n"
     ]
    }
   ],
   "source": [
    "# True は 1 として扱われ、False は 0 として扱われる\n",
    "print(True + True)  # 1 + 1 = 2\n",
    "print(True * 10)  # 1 * 10 = 10\n",
    "print(False + 5)  # 0 + 5 = 5"
   ]
  },
  {
   "cell_type": "code",
   "execution_count": 4,
   "id": "6f8233f0",
   "metadata": {},
   "outputs": [
    {
     "name": "stdout",
     "output_type": "stream",
     "text": [
      "まだ値が設定されていません\n"
     ]
    }
   ],
   "source": [
    "value = None  # 変数を初期化\n",
    "if value is None:\n",
    "    print(\"まだ値が設定されていません\")"
   ]
  },
  {
   "cell_type": "code",
   "execution_count": 5,
   "id": "2e3f96d6",
   "metadata": {},
   "outputs": [
    {
     "name": "stdout",
     "output_type": "stream",
     "text": [
      "Hello!\n",
      "None\n"
     ]
    }
   ],
   "source": [
    "def greet():\n",
    "    print(\"Hello!\")\n",
    "\n",
    "result = greet()  # 関数がNoneを返す\n",
    "print(result)     # Noneと出力される"
   ]
  },
  {
   "cell_type": "code",
   "execution_count": 6,
   "id": "1beccade",
   "metadata": {},
   "outputs": [
    {
     "name": "stdout",
     "output_type": "stream",
     "text": [
      "データがありません\n"
     ]
    }
   ],
   "source": [
    "data = None\n",
    "if data is None:\n",
    "    print(\"データがありません\")"
   ]
  }
 ],
 "metadata": {
  "kernelspec": {
   "display_name": ".venv",
   "language": "python",
   "name": "python3"
  },
  "language_info": {
   "codemirror_mode": {
    "name": "ipython",
    "version": 3
   },
   "file_extension": ".py",
   "mimetype": "text/x-python",
   "name": "python",
   "nbconvert_exporter": "python",
   "pygments_lexer": "ipython3",
   "version": "3.12.10"
  }
 },
 "nbformat": 4,
 "nbformat_minor": 5
}
