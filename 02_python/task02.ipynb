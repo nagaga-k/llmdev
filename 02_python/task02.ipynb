{
 "cells": [
  {
   "cell_type": "code",
   "execution_count": 15,
   "id": "1239ef87",
   "metadata": {},
   "outputs": [
    {
     "name": "stdout",
     "output_type": "stream",
     "text": [
      "送料は無料です\n",
      "送料込税込価格は2200円です\n"
     ]
    }
   ],
   "source": [
    "price = int(input(\"価格を入力してください： \"))\n",
    "\n",
    "taxprice = 1.1 * price\n",
    "postage = 0\n",
    "\n",
    "if taxprice >= 2000:\n",
    "    postage = 0\n",
    "    print(\"送料は無料です\")\n",
    "    total = int(taxprice + postage)\n",
    "else:\n",
    "    postage = 350\n",
    "    print(\"送料は350円です\")\n",
    "    total = int(taxprice + postage)\n",
    "\n",
    "print(f\"送料込税込価格は{total}円です\")"
   ]
  }
 ],
 "metadata": {
  "kernelspec": {
   "display_name": ".venv",
   "language": "python",
   "name": "python3"
  },
  "language_info": {
   "codemirror_mode": {
    "name": "ipython",
    "version": 3
   },
   "file_extension": ".py",
   "mimetype": "text/x-python",
   "name": "python",
   "nbconvert_exporter": "python",
   "pygments_lexer": "ipython3",
   "version": "3.12.10"
  }
 },
 "nbformat": 4,
 "nbformat_minor": 5
}
