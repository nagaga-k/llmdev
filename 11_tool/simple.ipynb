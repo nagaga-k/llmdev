{
 "cells": [
  {
   "cell_type": "code",
   "execution_count": null,
   "id": "f959fba1",
   "metadata": {},
   "outputs": [],
   "source": [
    "# 必要なモジュールをインポート\n",
    "import os\n",
    "from dotenv import load_dotenv\n",
    "from openai import OpenAI\n",
    "from pprint import pprint\n",
    "\n",
    "# 環境変数の取得\n",
    "load_dotenv(\"../.env\")\n",
    "\n",
    "# OpenAI APIクライアントを生成\n",
    "client = OpenAI(api_key=os.environ['API_KEY'])\n",
    "\n",
    "# モデル名\n",
    "MODEL_NAME = \"gpt-4o-mini\""
   ]
  },
  {
   "cell_type": "code",
   "execution_count": null,
   "id": "2152ae15",
   "metadata": {},
   "outputs": [],
   "source": [
    "import json\n",
    "\n",
    "# 検索結果を返す関数の作成\n",
    "def get_search_result(keyword, when=\"1\", unit=\"m\"):\n",
    "    result = {\n",
    "        \"result\": [\n",
    "            {\"title\": \"1914年（大正3年）中央停車場改め「東京駅」として営業を開始しました\"},\n",
    "            {\"title\": \"1929年（昭和4年）八重洲口が開設されました\"},\n",
    "            {\"title\": \"2014年（平成26年）東京駅開業100周年を迎えました\"},\n",
    "        ]\n",
    "    }\n",
    "\n",
    "    return json.dumps(result)"
   ]
  },
  {
   "cell_type": "code",
   "execution_count": null,
   "id": "0faf77ce",
   "metadata": {},
   "outputs": [],
   "source": [
    "from openai.types.chat import ChatCompletionToolParam\n",
    "\n",
    "# ツール定義\n",
    "tools=[\n",
    "    ChatCompletionToolParam({\n",
    "        \"type\": \"function\",\n",
    "        \"function\": {\n",
    "            \"name\": \"get_search_result\",\n",
    "            \"description\": \"指定したキーワードの検索結果を取得する\",\n",
    "            \"parameters\": {\n",
    "                \"type\": \"object\",\n",
    "                \"properties\": {\n",
    "                    \"keyword\": {\n",
    "                        \"type\": \"string\",\n",
    "                        \"description\": \"キーワード\",\n",
    "                    },\n",
    "                    \"when\": {\n",
    "                        \"type\": \"number\",\n",
    "                        \"description\": \"日付や時間の範囲\"\n",
    "                    },\n",
    "                    \"unit\": {\n",
    "                        \"type\": \"string\",\n",
    "                        \"enum\": [\"d\", \"h\", \"y\"]\n",
    "                    },\n",
    "                },\n",
    "                \"required\": [\"keyword\"],\n",
    "            },\n",
    "        },\n",
    "    })\n",
    "]"
   ]
  },
  {
   "cell_type": "code",
   "execution_count": null,
   "id": "c9a0c11c",
   "metadata": {},
   "outputs": [],
   "source": [
    "# 言語モデルが直接回答できる質問\n",
    "question = \"日本の首都はどこにありますか？\"\n",
    "\n",
    "response = client.chat.completions.create(\n",
    "    model=MODEL_NAME,\n",
    "    messages=[\n",
    "        {\"role\": \"user\", \"content\": question},\n",
    "    ],\n",
    "    tools=tools,\n",
    "    tool_choice=\"auto\",\n",
    ")\n",
    "\n",
    "# レスポンスの表示\n",
    "pprint(vars(response))"
   ]
  },
  {
   "cell_type": "code",
   "execution_count": null,
   "id": "d0613481",
   "metadata": {},
   "outputs": [],
   "source": [
    "# ツール呼出が必要な質問\n",
    "question = \"東京駅のイベントについて、最近1ヶ月以内の検索結果を教えてください\"\n",
    "\n",
    "response = client.chat.completions.create(\n",
    "    model=MODEL_NAME,\n",
    "    messages=[\n",
    "        {\"role\": \"user\", \"content\": question},\n",
    "    ],\n",
    "    tools=tools,\n",
    "    tool_choice=\"auto\",\n",
    ")\n",
    "\n",
    "# レスポンスの表示\n",
    "pprint(vars(response))\n"
   ]
  }
 ],
 "metadata": {
  "kernelspec": {
   "display_name": ".venv",
   "language": "python",
   "name": "python3"
  },
  "language_info": {
   "name": "python",
   "version": "3.12.10"
  }
 },
 "nbformat": 4,
 "nbformat_minor": 5
}
