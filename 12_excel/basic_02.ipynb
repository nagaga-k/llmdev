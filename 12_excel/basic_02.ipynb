{
 "cells": [
  {
   "cell_type": "code",
   "execution_count": null,
   "id": "62c8b984",
   "metadata": {},
   "outputs": [],
   "source": [
    "# 必要なモジュールをインポート\n",
    "import os\n",
    "from dotenv import load_dotenv\n",
    "from openai import OpenAI\n",
    "import pandas as pd\n",
    "\n",
    "# 環境変数の取得\n",
    "load_dotenv()\n",
    "\n",
    "# OpenAI APIクライアントを生成\n",
    "client = OpenAI(api_key=os.environ['API_KEY'])\n",
    "\n",
    "# モデル名\n",
    "MODEL_NAME = \"gpt-4o-mini\""
   ]
  },
  {
   "cell_type": "code",
   "execution_count": null,
   "id": "21405b93",
   "metadata": {},
   "outputs": [],
   "source": [
    "# 1. Excelファイルを読み込む\n",
    "df = pd.read_excel('サンプルデータ.xlsx', sheet_name='アンケート')\n",
    "# データフレームを表示して確認\n",
    "df.head()"
   ]
  },
  {
   "cell_type": "code",
   "execution_count": null,
   "id": "c0f11bc0",
   "metadata": {},
   "outputs": [],
   "source": [
    "# アンケートの主要キーワードをLLMで抽出する関数\n",
    "def extract_keywords(text):\n",
    "    # 2. データをLLM用にテキスト形式に変換\n",
    "    # プロンプトの作成\n",
    "    prompt_text = f\"以下のアンケートから主要なキーワードをカンマ区切りで抽出してください。\\nアンケート: {text}\"\n",
    "\n",
    "    # 3. OpenAI APIの呼び出し\n",
    "    try:\n",
    "        # OpenAI APIで応答を生成\n",
    "        response = client.chat.completions.create(\n",
    "            model=MODEL_NAME,\n",
    "            messages=[\n",
    "                {\"role\": \"user\", \"content\": prompt_text},\n",
    "            ],\n",
    "            max_tokens=100,  # 応答の長さを調整\n",
    "            temperature=0.3  # 創造性の調整\n",
    "        )\n",
    "        # キーワード抽出結果を取得\n",
    "        keywords = response.choices[0].message.content.strip()\n",
    "        return keywords\n",
    "    \n",
    "    except Exception as e:\n",
    "        print(f\"API呼び出しでエラーが発生しました: {e}\")\n",
    "        return \"エラー\""
   ]
  },
  {
   "cell_type": "code",
   "execution_count": null,
   "id": "c0b32d77",
   "metadata": {},
   "outputs": [],
   "source": [
    "# テストコードで確認\n",
    "text = extract_keywords(\"pandasは、Excelファイル（`.xls`、`.xlsx` 形式）の読み書きに加え、データの集計や変換、フィルタリングといった複雑な操作を手軽に行えるライブラリです。\")\n",
    "print(text)"
   ]
  },
  {
   "cell_type": "code",
   "execution_count": null,
   "id": "4cbc2983",
   "metadata": {},
   "outputs": [],
   "source": [
    "# 4. 分析結果をデータフレームに変換\n",
    "\n",
    "# B列（キーワード）を初期化\n",
    "df['キーワード'] = \"\"\n",
    "\n",
    "# for文で各アンケート行に対してキーワード抽出を実行\n",
    "for index, row in df.iterrows():\n",
    "    # A列のアンケート内容を取得\n",
    "    survey_text = row['アンケート']\n",
    "    \n",
    "    # キーワード抽出関数を呼び出し、結果をB列に保存\n",
    "    keywords = extract_keywords(survey_text)\n",
    "    df.at[index, 'キーワード'] = keywords\n",
    "\n",
    "# データフレームを表示して確認\n",
    "df.head()\n"
   ]
  },
  {
   "cell_type": "code",
   "execution_count": null,
   "id": "8af1c756",
   "metadata": {},
   "outputs": [],
   "source": [
    "# 5. 結果をExcelファイルに保存\n",
    "df.to_excel(\"アンケート分析結果.xlsx\", index=False)\n"
   ]
  },
  {
   "cell_type": "code",
   "execution_count": null,
   "id": "2c142b5d",
   "metadata": {},
   "outputs": [],
   "source": [
    "# ワークフロー化\n",
    "print(\"処理を開始します。\")\n",
    "\n",
    "# Excelファイルを読み込む\n",
    "df = pd.read_excel('サンプルデータ.xlsx', sheet_name='アンケート')\n",
    "\n",
    "# A列の各行のアンケートに対してキーワード抽出を実行し、B列に書き込む\n",
    "df['キーワード'] = df['アンケート'].apply(extract_keywords)\n",
    "\n",
    "# 結果をExcelファイルに保存\n",
    "df.to_excel(\"アンケート分析結果.xlsx\", index=False)\n",
    "\n",
    "print(\"Excelファイルに分析結果を保存しました。\")\n",
    "実行結果：\n",
    "処理を開始します。\n",
    "Excelファイルに分析結果を保存しました。\n"
   ]
  }
 ],
 "metadata": {
  "kernelspec": {
   "display_name": ".venv",
   "language": "python",
   "name": "python3"
  },
  "language_info": {
   "name": "python",
   "version": "3.12.10"
  }
 },
 "nbformat": 4,
 "nbformat_minor": 5
}
