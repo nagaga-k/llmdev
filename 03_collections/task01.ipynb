{
 "cells": [
  {
   "cell_type": "code",
   "execution_count": 10,
   "id": "6e800475",
   "metadata": {},
   "outputs": [
    {
     "name": "stdout",
     "output_type": "stream",
     "text": [
      "平均点:80.0\n",
      "最高点:90\n",
      "最低点:70\n",
      "平均以上の学生数:3\n"
     ]
    }
   ],
   "source": [
    "grades = [70, 75, 80, 85, 90] #[85, 90, 78, 92, 88]\n",
    "\n",
    "avg = sum(grades) / len(grades)\n",
    "\n",
    "print(f\"平均点:{avg:.1f}\")\n",
    "print(f\"最高点:{max(grades)}\")\n",
    "print(f\"最低点:{min(grades)}\")\n",
    "\n",
    "count = 0\n",
    "for i in grades:\n",
    "    if i >= avg:\n",
    "        count +=1\n",
    "\n",
    "print(f\"平均以上の学生数:{count}\")"
   ]
  }
 ],
 "metadata": {
  "kernelspec": {
   "display_name": ".venv",
   "language": "python",
   "name": "python3"
  },
  "language_info": {
   "codemirror_mode": {
    "name": "ipython",
    "version": 3
   },
   "file_extension": ".py",
   "mimetype": "text/x-python",
   "name": "python",
   "nbconvert_exporter": "python",
   "pygments_lexer": "ipython3",
   "version": "3.12.10"
  }
 },
 "nbformat": 4,
 "nbformat_minor": 5
}
