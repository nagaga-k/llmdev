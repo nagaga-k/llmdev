{
 "cells": [
  {
   "cell_type": "code",
   "execution_count": 1,
   "id": "229b6f0f",
   "metadata": {},
   "outputs": [
    {
     "name": "stdout",
     "output_type": "stream",
     "text": [
      "入力した英単語： ['bird', 'cat', 'dog']\n",
      "aが1個ありました\n",
      "bが1個ありました\n",
      "cが1個ありました\n",
      "dが2個ありました\n",
      "gが1個ありました\n",
      "iが1個ありました\n",
      "oが1個ありました\n",
      "rが1個ありました\n",
      "tが1個ありました\n"
     ]
    }
   ],
   "source": [
    "words = []\n",
    "\n",
    "alfabet_dict = {'a':0, 'b':0, 'c':0, 'd':0, 'e':0, 'f':0, 'g':0, 'h':0, 'i':0, 'j':0, 'k':0, 'l':0, 'm':0, 'n':0, 'o':0, 'p':0, 'q':0, 'r':0, 's':0, 't':0, 'u':0, 'v':0, 'w':0, 'x':0, 'y':0, 'z':0}\n",
    "\n",
    "while True:\n",
    "    raw_data = input(\"英単語を入力してください：\")\n",
    "\n",
    "    if raw_data == \"\":\n",
    "        break\n",
    "    words.append(raw_data)\n",
    "    for ch in raw_data:\n",
    "        if ch in alfabet_dict:\n",
    "            alfabet_dict[ch] += 1\n",
    "\n",
    "words.sort() #ソート\n",
    "\n",
    "print(\"入力した英単語：\", words) #英単語のリストを一覧表示\n",
    "\n",
    "#アルファベットごとのカウントを表示\n",
    "for ch , count in alfabet_dict.items():\n",
    "    if count > 0 :\n",
    "        print(f\"{ch}が{count}個ありました\")\n"
   ]
  }
 ],
 "metadata": {
  "kernelspec": {
   "display_name": ".venv",
   "language": "python",
   "name": "python3"
  },
  "language_info": {
   "codemirror_mode": {
    "name": "ipython",
    "version": 3
   },
   "file_extension": ".py",
   "mimetype": "text/x-python",
   "name": "python",
   "nbconvert_exporter": "python",
   "pygments_lexer": "ipython3",
   "version": "3.12.10"
  }
 },
 "nbformat": 4,
 "nbformat_minor": 5
}
