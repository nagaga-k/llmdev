{
 "cells": [
  {
   "cell_type": "code",
   "execution_count": 4,
   "id": "dcf38f7c",
   "metadata": {},
   "outputs": [
    {
     "name": "stdout",
     "output_type": "stream",
     "text": [
      "1300\n",
      "エラー: 残高不足または無効な金額です\n",
      "エラー: 正しい金額を入力してください \n"
     ]
    }
   ],
   "source": [
    "#クラスの定義\n",
    "class BankAccount:\n",
    "    def __init__(self,total):\n",
    "        self.__total = total \n",
    "\n",
    "    def deposit(self,amount):\n",
    "        if amount < 0:\n",
    "            print(\"エラー: 正しい金額を入力してください \")\n",
    "            return\n",
    "        self.__total += amount\n",
    "\n",
    "    def withdraw(self,amount): \n",
    "        if amount <= 0 or amount > self.__total:\n",
    "            print(\"エラー: 残高不足または無効な金額です\")\n",
    "            return\n",
    "        self.__total -= amount\n",
    "\n",
    "    def get_balance(self): \n",
    "        return self.__total\n",
    "\n",
    "\n",
    "#呼び出し側\n",
    "account = BankAccount(1000)\n",
    "\n",
    "account.deposit(500)\n",
    "\n",
    "account.withdraw(200)\n",
    "\n",
    "print(account.get_balance())\n",
    "\n",
    "account.withdraw(1500)\n",
    "\n",
    "account.deposit(-500)"
   ]
  }
 ],
 "metadata": {
  "kernelspec": {
   "display_name": ".venv",
   "language": "python",
   "name": "python3"
  },
  "language_info": {
   "codemirror_mode": {
    "name": "ipython",
    "version": 3
   },
   "file_extension": ".py",
   "mimetype": "text/x-python",
   "name": "python",
   "nbconvert_exporter": "python",
   "pygments_lexer": "ipython3",
   "version": "3.12.10"
  }
 },
 "nbformat": 4,
 "nbformat_minor": 5
}
