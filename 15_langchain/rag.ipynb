{
 "cells": [
  {
   "cell_type": "code",
   "execution_count": null,
   "id": "7992f945",
   "metadata": {},
   "outputs": [],
   "source": [
    "# 必要なモジュールをインポート\n",
    "import os\n",
    "from dotenv import load_dotenv\n",
    "from langchain_openai import ChatOpenAI\n",
    "\n",
    "# 環境変数の読み込み\n",
    "load_dotenv(\"../.env\")\n",
    "os.environ['OPENAI_API_KEY'] = os.environ['API_KEY']\n",
    "\n",
    "# モデル名\n",
    "MODEL_NAME = \"gpt-4o-mini\""
   ]
  },
  {
   "cell_type": "code",
   "execution_count": null,
   "id": "860abf6f",
   "metadata": {},
   "outputs": [],
   "source": [
    "from langchain_community.document_loaders import DirectoryLoader\n",
    "from langchain_community.document_loaders import PyPDFLoader\n",
    "\n",
    "# PDFファイルを読込\n",
    "loader = DirectoryLoader('./data/pdf', glob=\"./*.pdf\",   loader_cls=PyPDFLoader)\n",
    "documents = loader.load()\n",
    "\n",
    "# 結果の表示\n",
    "print(documents)\n"
   ]
  },
  {
   "cell_type": "code",
   "execution_count": null,
   "id": "eb696500",
   "metadata": {},
   "outputs": [],
   "source": [
    "from langchain_text_splitters import CharacterTextSplitter\n",
    "import tiktoken\n",
    "\n",
    "# 言語モデルに合うトークナイザー名を取得\n",
    "encoding_name = tiktoken.encoding_for_model(MODEL_NAME).name\n",
    "\n",
    "# テキスト分割を作成\n",
    "text_splitter = CharacterTextSplitter.from_tiktoken_encoder(encoding_name)\n",
    "\n",
    "# チャンクに分割\n",
    "texts = text_splitter.split_documents(documents)\n",
    "\n",
    "# チャンク数と内容の表示\n",
    "print(\"texts_size=\", len(texts))\n",
    "for txt in texts[:3]:\n",
    "    print(txt)\n",
    "    print(\"-\" * 50)\n"
   ]
  },
  {
   "cell_type": "code",
   "execution_count": null,
   "id": "7bf3eb66",
   "metadata": {},
   "outputs": [],
   "source": [
    "from langchain_openai import OpenAIEmbeddings\n",
    "from langchain_chroma import Chroma\n",
    "\n",
    "# エンベディングモデルの指定\n",
    "embedding_model = OpenAIEmbeddings(model=\"text-embedding-3-small\")\n",
    "\n",
    "# インデックスの構築\n",
    "db = Chroma.from_documents(texts, embedding_model)\n"
   ]
  },
  {
   "cell_type": "code",
   "execution_count": null,
   "id": "1d300102",
   "metadata": {},
   "outputs": [],
   "source": [
    "# Retrieverの作成\n",
    "retriever = db.as_retriever()\n",
    "\n",
    "# 検索の実施\n",
    "results = retriever.invoke(\"有給休暇の付与日数は？\")\n",
    "\n",
    "# 結果を表示\n",
    "for result in results:\n",
    "    print(result.page_content)\n",
    "    print(\"-\" * 50)"
   ]
  },
  {
   "cell_type": "code",
   "execution_count": null,
   "id": "f9912146",
   "metadata": {},
   "outputs": [],
   "source": [
    "# 保存先を指定\n",
    "db = Chroma.from_documents(texts, embedding_model, persist_directory=\"./chroma_db\")\n",
    "\n",
    "# ストレージから復元\n",
    "db = Chroma(persist_directory=\"./chroma_db\", embedding_function=embedding_model)\n"
   ]
  },
  {
   "cell_type": "code",
   "execution_count": null,
   "id": "e5090222",
   "metadata": {},
   "outputs": [],
   "source": [
    "from langchain_core.prompts import ChatPromptTemplate\n",
    "\n",
    "# プロンプトテンプレートの作成\n",
    "prompt = ChatPromptTemplate.from_template(\"\"\"提供されたコンテキストのみに基づいて次の質問に答えてください:\n",
    "\n",
    "<コンテキスト>\n",
    "{context}\n",
    "</コンテキスト>\n",
    "\n",
    "Question: {input}\"\"\")\n"
   ]
  },
  {
   "cell_type": "code",
   "execution_count": null,
   "id": "5e478320",
   "metadata": {},
   "outputs": [],
   "source": [
    "# モデルの作成\n",
    "chat_model = ChatOpenAI(model_name=MODEL_NAME)\n"
   ]
  },
  {
   "cell_type": "code",
   "execution_count": null,
   "id": "3ec28ee6",
   "metadata": {},
   "outputs": [],
   "source": [
    "from langchain_core.runnables import RunnablePassthrough\n",
    "from langchain_core.output_parsers import StrOutputParser\n",
    "\n",
    "chain = ({\"context\": retriever, \"input\": RunnablePassthrough()}\n",
    "    | prompt\n",
    "    | chat_model\n",
    "    | StrOutputParser())\n"
   ]
  },
  {
   "cell_type": "code",
   "execution_count": null,
   "id": "aeec196a",
   "metadata": {},
   "outputs": [],
   "source": [
    "# チェーンの実行\n",
    "response = chain.invoke(\"有給休暇の付与日数は？\")\n",
    "\n",
    "# 結果を表示\n",
    "print(response)\n"
   ]
  }
 ],
 "metadata": {
  "kernelspec": {
   "display_name": ".venv",
   "language": "python",
   "name": "python3"
  },
  "language_info": {
   "name": "python",
   "version": "3.12.10"
  }
 },
 "nbformat": 4,
 "nbformat_minor": 5
}
