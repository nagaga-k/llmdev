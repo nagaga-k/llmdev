{
 "cells": [
  {
   "cell_type": "code",
   "execution_count": null,
   "id": "1c33e482",
   "metadata": {},
   "outputs": [],
   "source": [
    "# 必要なモジュールをインポート\n",
    "import os\n",
    "from dotenv import load_dotenv\n",
    "from langchain_openai import ChatOpenAI\n",
    "\n",
    "# 環境変数の読み込み\n",
    "load_dotenv(\"../.env\")\n",
    "os.environ['OPENAI_API_KEY'] = os.environ['API_KEY']\n",
    "\n",
    "# モデル名\n",
    "MODEL_NAME = \"gpt-4o-mini\"\n"
   ]
  },
  {
   "cell_type": "code",
   "execution_count": null,
   "id": "30319a9f",
   "metadata": {},
   "outputs": [],
   "source": [
    "# 検索ツールの定義\n",
    "from langchain_community.tools.tavily_search import TavilySearchResults\n",
    "\n",
    "tool = TavilySearchResults(max_results=2)\n",
    "tools = [tool]"
   ]
  },
  {
   "cell_type": "code",
   "execution_count": null,
   "id": "3c5acb02",
   "metadata": {},
   "outputs": [],
   "source": [
    "tool.invoke(\"Langgraphのノードとは？\")"
   ]
  },
  {
   "cell_type": "code",
   "execution_count": null,
   "id": "28bc0f8f",
   "metadata": {},
   "outputs": [],
   "source": [
    "from typing import Annotated\n",
    "from typing_extensions import TypedDict\n",
    "from langgraph.graph import StateGraph\n",
    "from langgraph.graph.message import add_messages\n",
    "\n",
    "# Stateクラスの定義\n",
    "class State(TypedDict):\n",
    "    messages: Annotated[list, add_messages]\n",
    "\n",
    "# グラフのインスタンスを作成\n",
    "graph_builder = StateGraph(State)\n",
    "\n",
    "# 言語モデルの定義\n",
    "llm = ChatOpenAI(model_name=MODEL_NAME)\n",
    "\n",
    "# 変更点：ツール定義の紐づけ\n",
    "llm_with_tools = llm.bind_tools(tools)\n",
    "\n",
    "# チャットボットノードの作成\n",
    "def chatbot(state: State):\n",
    "    return {\"messages\": [llm_with_tools.invoke(state[\"messages\"])]}\n",
    "\n",
    "# グラフにチャットボットノードを追加\n",
    "graph_builder.add_node(\"chatbot\", chatbot)\n"
   ]
  },
  {
   "cell_type": "code",
   "execution_count": null,
   "id": "cd7ac7be",
   "metadata": {},
   "outputs": [],
   "source": [
    "from langgraph.prebuilt import ToolNode, tools_condition\n",
    "from langgraph.checkpoint.memory import MemorySaver\n",
    "\n",
    "# ツールノードの作成\n",
    "tool_node = ToolNode(tools)\n",
    "\n",
    "# グラフにツールノードを追加\n",
    "graph_builder.add_node(\"tools\", tool_node)\n",
    "\n",
    "# 条件付エッジの作成\n",
    "graph_builder.add_conditional_edges(\n",
    "    \"chatbot\",\n",
    "    tools_condition, # ツール呼出と判断したらツールノードを呼ぶ\n",
    ")\n",
    "\n",
    "# ツールが呼び出されるたびに、チャットボットに戻って次のステップを決定\n",
    "# ツールからチャットボットへの戻りエッジを作成\n",
    "graph_builder.add_edge(\"tools\", \"chatbot\")\n",
    "\n",
    "# 開始ノードの指定\n",
    "graph_builder.set_entry_point(\"chatbot\")\n",
    "\n",
    "# 記憶を持つ実行可能なステートグラフの作成\n",
    "memory = MemorySaver()\n",
    "graph = graph_builder.compile(checkpointer=memory)\n"
   ]
  },
  {
   "cell_type": "code",
   "execution_count": null,
   "id": "84087980",
   "metadata": {},
   "outputs": [],
   "source": [
    "# グラフの実行と結果の表示\n",
    "def stream_graph_updates(user_input: str):\n",
    "    events = graph.stream(\n",
    "        {\"messages\": [(\"user\", user_input)]},\n",
    "        {\"configurable\": {\"thread_id\": \"1\"}},\n",
    "        stream_mode=\"values\")\n",
    "    # 結果をストリーミングで得る\n",
    "    for event in events:\n",
    "        print(event[\"messages\"][-1].content, flush=True)\n",
    "\n",
    "# チャットボットのループ\n",
    "while True:\n",
    "    user_input = input(\"質問:\")\n",
    "    if user_input.strip()==\"\":\n",
    "        print(\"ありがとうございました!\")\n",
    "        break\n",
    "    stream_graph_updates(user_input)"
   ]
  }
 ],
 "metadata": {
  "kernelspec": {
   "display_name": ".venv",
   "language": "python",
   "name": "python3"
  },
  "language_info": {
   "name": "python",
   "version": "3.12.10"
  }
 },
 "nbformat": 4,
 "nbformat_minor": 5
}
