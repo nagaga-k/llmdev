{
 "cells": [
  {
   "cell_type": "code",
   "execution_count": 4,
   "id": "09c9dac6",
   "metadata": {},
   "outputs": [
    {
     "name": "stdout",
     "output_type": "stream",
     "text": [
      "Content saved in: 20250911_191409.txt\n"
     ]
    }
   ],
   "source": [
    "import urllib.request\n",
    "import datetime\n",
    "\n",
    "def save_url_content(url): #関数を定義\n",
    "    response = urllib.request.urlopen(url) #URLから応答\n",
    "    html = response.read().decode(\"utf-8\") #応答URLをUTF8で読み込み\n",
    "\n",
    "    html_mini = html[:500] #500文字だけのデータに\n",
    "\n",
    "    now = datetime.datetime.now() #日時を取得\n",
    "    #日時をファイル名にする\n",
    "    file_name = now.strftime(\"%Y%m%d_%H%M%S\") + \".txt\"\n",
    "\n",
    "    #ファイルに保存\n",
    "    with open(file_name,\"w\",encoding=\"utf-8\") as f:\n",
    "        f.write(html_mini)\n",
    "    \n",
    "    #ファイル名を返す\n",
    "    return file_name\n",
    "\n",
    "\n",
    "#呼び出し側\n",
    "url = input(\"URLを入力してください: \")\n",
    "file_name = save_url_content(url) \n",
    "print(f\"Content saved in: {file_name}\") \n"
   ]
  }
 ],
 "metadata": {
  "kernelspec": {
   "display_name": ".venv",
   "language": "python",
   "name": "python3"
  },
  "language_info": {
   "codemirror_mode": {
    "name": "ipython",
    "version": 3
   },
   "file_extension": ".py",
   "mimetype": "text/x-python",
   "name": "python",
   "nbconvert_exporter": "python",
   "pygments_lexer": "ipython3",
   "version": "3.12.10"
  }
 },
 "nbformat": 4,
 "nbformat_minor": 5
}
